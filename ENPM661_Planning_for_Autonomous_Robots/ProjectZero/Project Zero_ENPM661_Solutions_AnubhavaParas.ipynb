{
 "cells": [
  {
   "cell_type": "markdown",
   "metadata": {},
   "source": [
    "## ENPM661: Project 0 -  Solutions\n",
    "for the ease of finding the answers at one place, I have collated all the questions and their solutions in this notebook. "
   ]
  },
  {
   "cell_type": "markdown",
   "metadata": {},
   "source": [
    "#### Practice questions for list"
   ]
  },
  {
   "cell_type": "markdown",
   "metadata": {},
   "source": [
    "### Practice :\n",
    "Create an empty list.\\\n",
    "Append the list using a for-loop with squares of numbers from 1 to 10.\\\n",
    "Sort and reverse the list.\\\n",
    "Delete the 7th and 8th element and print the list."
   ]
  },
  {
   "cell_type": "code",
   "execution_count": 1,
   "metadata": {},
   "outputs": [
    {
     "name": "stdout",
     "output_type": "stream",
     "text": [
      "List after sorting, reversing and deleting the 7th and 8th elements:\n",
      "[100, 81, 64, 49, 36, 25, 4, 1]\n",
      "\n",
      " Another list of squares using list comprehension\n",
      "[1, 4, 9, 16, 25, 36, 49, 64, 81, 100]\n",
      "\n",
      "----------------------------------\n",
      "----------------------------------\n",
      "\n"
     ]
    }
   ],
   "source": [
    "# 1.Creating an empty list\n",
    "new_list= [] ## or >>> new_list = list()\n",
    "\n",
    "# 2.For loop to append the squares from 1 to 10\n",
    "for x in range (1, 11):\n",
    "    new_list.append(x*x)\n",
    "    \n",
    "\n",
    "# The same thing to fill in the list with squares of numbers from 1 to 10 can be done by list comprehension:\n",
    "another_list = [x*x for x in range(1,11)]\n",
    "\n",
    "\n",
    "# 3.Sorting the list\n",
    "new_list.sort()\n",
    "\n",
    "# 4.reverse the list\n",
    "new_list.reverse() ## or >>> new_list = new_list[::-1]\n",
    "\n",
    "\n",
    "# 5.Deleting the 7th (at index 6) and 8th (at index 7) elements\n",
    "del new_list[6:8]\n",
    "\n",
    "print(\"List after sorting, reversing and deleting the 7th and 8th elements:\")\n",
    "print(new_list)\n",
    "\n",
    "print(\"\\n Another list of squares using list comprehension\")\n",
    "print(another_list)\n",
    "\n",
    "\n",
    "print(\"\\n----------------------------------\\n----------------------------------\\n\")\n"
   ]
  },
  {
   "cell_type": "markdown",
   "metadata": {},
   "source": [
    "#### Practice questions for dictionary:"
   ]
  },
  {
   "cell_type": "code",
   "execution_count": 2,
   "metadata": {},
   "outputs": [
    {
     "name": "stdout",
     "output_type": "stream",
     "text": [
      "The new dictionary after copying the original is:\n",
      "{1: 'geeks', 2: 'for'}\n"
     ]
    }
   ],
   "source": [
    "original = {1:'geeks', 2:'for'} \n",
    "  \n",
    "## 1. Write code to copy \"original\" dictionary and print the newly copied dictionary\n",
    "\n",
    "new_dict = dict.copy(original)\n",
    "print(\"The new dictionary after copying the original is:\")\n",
    "print(new_dict)\n"
   ]
  },
  {
   "cell_type": "code",
   "execution_count": 3,
   "metadata": {},
   "outputs": [
    {
     "name": "stdout",
     "output_type": "stream",
     "text": [
      "'text' dictionary after clearing the contents:\n",
      "{}\n"
     ]
    }
   ],
   "source": [
    "text = {1: \"geeks\", 2: \"for\"} \n",
    "  \n",
    "# 2. write the code to clear the content of the dictionary and then print the empty dictionary \n",
    "\n",
    "dict.clear(text)\n",
    "print(\"'text' dictionary after clearing the contents:\")\n",
    "print(text)\n"
   ]
  },
  {
   "cell_type": "code",
   "execution_count": 4,
   "metadata": {},
   "outputs": [
    {
     "name": "stdout",
     "output_type": "stream",
     "text": [
      "The value of 'shoe' from the dictionary when 'shoe' key is not there is: 100\n",
      "The value of 'shoe' from the dictionary when 'shoe' key is there is: 200\n"
     ]
    }
   ],
   "source": [
    "inventory = {'shirts': 25, 'paints': 220, 'tshirts': 217}\n",
    "inventory_with_shoe_key = {'shirts': 25, 'paints': 220, 'tshirts': 217, 'shoe': 200} \n",
    "\n",
    "# 3. write code to get the value for the key 'shoes'. If the key is not is the dictionary return 100\n",
    "\n",
    "shoe_value_from_inventory = inventory.get('shoe', 100)\n",
    "print(\"The value of 'shoe' from the dictionary when 'shoe' key is not there is: \" + str(shoe_value_from_inventory))\n",
    "\n",
    "\n",
    "shoe_value_from_inventory = inventory_with_shoe_key.get('shoe', 100)\n",
    "print(\"The value of 'shoe' from the dictionary when 'shoe' key is there is: \" + str(shoe_value_from_inventory))\n"
   ]
  },
  {
   "cell_type": "code",
   "execution_count": 5,
   "metadata": {},
   "outputs": [
    {
     "name": "stdout",
     "output_type": "stream",
     "text": [
      "Result after popitem() is: ('Akash', 2)\n"
     ]
    }
   ],
   "source": [
    "\n",
    "test_dict = { \"Nikhil\" : 7, \"Akshat\" : 1, \"Akash\" : 2 } \n",
    "\n",
    "  \n",
    "# 4. write the code using popitem() to return + remove arbitrary key value pair and print it \n",
    "\n",
    "return_val_after_popitem = test_dict.popitem()\n",
    "print(\"Result after popitem() is: \" + str(return_val_after_popitem))\n"
   ]
  },
  {
   "cell_type": "markdown",
   "metadata": {},
   "source": [
    "#### Please note: popitem() method does *not* return any random arbitrary pair. It returns the *last* pair of the dictionary ALWAYS"
   ]
  },
  {
   "cell_type": "code",
   "execution_count": 6,
   "metadata": {},
   "outputs": [
    {
     "name": "stdout",
     "output_type": "stream",
     "text": [
      "1\n",
      "Value of 'C': Not found\n"
     ]
    }
   ],
   "source": [
    "dic = {\"A\":1, \"B\":2} \n",
    "print(dic.get(\"A\")) \n",
    "\n",
    "# 5. write the code to get the value for key 'C'. Print \"Not found\" if the key is not present\n",
    "\n",
    "def get_value_from_dictionary(dictionary, key, default_value):\n",
    "    val = dictionary.get(key, default_value)\n",
    "    return val\n",
    "\n",
    "print(\"Value of 'C': \" + str(get_value_from_dictionary(dic, 'C', \"Not found\")))\n"
   ]
  },
  {
   "cell_type": "code",
   "execution_count": 7,
   "metadata": {},
   "outputs": [
    {
     "name": "stdout",
     "output_type": "stream",
     "text": [
      "The values in the dictionary are:\n",
      "2, 3, 4\n"
     ]
    }
   ],
   "source": [
    "dictionary = {\"A\": 2, \"B\": 3, \"C\": 4} \n",
    "# 6. write the code to print the values in the dictionary\n",
    "\n",
    "print(\"The values in the dictionary are:\")\n",
    "print(*(dictionary.values()), sep=', ') ## unpacking the list returned by the method 'values()'\n"
   ]
  },
  {
   "cell_type": "code",
   "execution_count": 8,
   "metadata": {},
   "outputs": [
    {
     "name": "stdout",
     "output_type": "stream",
     "text": [
      "Original Dictionary:\n",
      "{'A': 'Geeks', 'B': 'For'}\n",
      "\n",
      "Dictionary1 after update is:\n",
      "{'A': 'Geeks', 'B': 'Geeks'}\n",
      "\n",
      "----------------------------------\n",
      "----------------------------------\n",
      "\n"
     ]
    }
   ],
   "source": [
    "# Dictionary with three items  \n",
    "Dictionary1 = { 'A': 'Geeks', 'B': 'For', } \n",
    "Dictionary2 = { 'B': 'Geeks' } \n",
    "  \n",
    "# Dictionary before Updation \n",
    "print(\"Original Dictionary:\") \n",
    "print(Dictionary1) \n",
    "\n",
    "# 7. Write the code to update \"Dictionary1\" with \"Dictionary2\" and print\n",
    "\n",
    "Dictionary1.update(Dictionary2)\n",
    "print(\"\\nDictionary1 after update is:\")\n",
    "print(Dictionary1)\n",
    "\n",
    "\n",
    "print(\"\\n----------------------------------\\n----------------------------------\\n\")"
   ]
  },
  {
   "cell_type": "markdown",
   "metadata": {},
   "source": [
    "#### Create a list of strings based on a list of numbers\n",
    "The rules:\n",
    "\n",
    "If the number is a multiple of five and odd, the string should be 'five odd'\n",
    "\n",
    "If the number is a multiple of five and even, the string should be 'five even'\n",
    "\n",
    "If the number is odd, the string is 'odd'\n",
    "\n",
    "If the number is even, the string is 'even'"
   ]
  },
  {
   "cell_type": "code",
   "execution_count": 9,
   "metadata": {},
   "outputs": [
    {
     "name": "stdout",
     "output_type": "stream",
     "text": [
      "['odd', 'odd', 'even', 'even', 'odd', 'five even', 'five even', 'five odd']\n"
     ]
    }
   ],
   "source": [
    "numbers = [1, 3, 4, 6, 81, 80, 100, 95]\n",
    "\n",
    "# Your implementation\n",
    "def get_logical_string(num):  ## assuming 'num' will always be a numerical value\n",
    "    if num % 2 == 0:\n",
    "        if num % 5 == 0:\n",
    "            return \"five even\"\n",
    "        else:\n",
    "            return \"even\"\n",
    "    else:\n",
    "        if num % 5 == 0:\n",
    "            return \"five odd\"\n",
    "        else:\n",
    "            return \"odd\"\n",
    "        \n",
    "\n",
    "my_list = [get_logical_string(num) for num in numbers]\n",
    "print(my_list)\n"
   ]
  },
  {
   "cell_type": "markdown",
   "metadata": {},
   "source": [
    "Assert will cross check if the output generated is the required ouput. If not, it will throw an error"
   ]
  },
  {
   "cell_type": "code",
   "execution_count": 10,
   "metadata": {},
   "outputs": [],
   "source": [
    "assert my_list == ['odd', 'odd', 'even', 'even', 'odd', 'five even', 'five even', 'five odd']"
   ]
  },
  {
   "cell_type": "code",
   "execution_count": null,
   "metadata": {},
   "outputs": [],
   "source": []
  }
 ],
 "metadata": {
  "kernelspec": {
   "display_name": "Python 3",
   "language": "python",
   "name": "python3"
  },
  "language_info": {
   "codemirror_mode": {
    "name": "ipython",
    "version": 3
   },
   "file_extension": ".py",
   "mimetype": "text/x-python",
   "name": "python",
   "nbconvert_exporter": "python",
   "pygments_lexer": "ipython3",
   "version": "3.7.4"
  }
 },
 "nbformat": 4,
 "nbformat_minor": 2
}
